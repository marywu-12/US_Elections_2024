{
 "cells": [
  {
   "cell_type": "code",
   "execution_count": 1,
   "metadata": {},
   "outputs": [],
   "source": [
    "import pandas as pd\n",
    "from datetime import datetime"
   ]
  },
  {
   "cell_type": "code",
   "execution_count": null,
   "metadata": {},
   "outputs": [],
   "source": [
    "data = pd.read_csv('/Users/marywu/Desktop/Desktop - mary/open your eyes./Northwestern/357/US_Elections_2024/president_polls.csv')"
   ]
  },
  {
   "cell_type": "code",
   "execution_count": 27,
   "metadata": {},
   "outputs": [
    {
     "name": "stderr",
     "output_type": "stream",
     "text": [
      "/var/folders/dd/mfscqrcj35qct16_wyv5xm8w0000gn/T/ipykernel_44231/3122544662.py:1: DtypeWarning: Columns (16,17,26) have mixed types. Specify dtype option on import or set low_memory=False.\n",
      "  data = pd.read_csv('/Users/marywu/Desktop/Desktop - mary/open your eyes./Northwestern/357/US_Elections_2024/president_polls.csv')\n",
      "/var/folders/dd/mfscqrcj35qct16_wyv5xm8w0000gn/T/ipykernel_44231/3122544662.py:21: SettingWithCopyWarning: \n",
      "A value is trying to be set on a copy of a slice from a DataFrame\n",
      "\n",
      "See the caveats in the documentation: https://pandas.pydata.org/pandas-docs/stable/user_guide/indexing.html#returning-a-view-versus-a-copy\n",
      "  clean_data.rename(columns={\n",
      "/var/folders/dd/mfscqrcj35qct16_wyv5xm8w0000gn/T/ipykernel_44231/3122544662.py:25: SettingWithCopyWarning: \n",
      "A value is trying to be set on a copy of a slice from a DataFrame.\n",
      "Try using .loc[row_indexer,col_indexer] = value instead\n",
      "\n",
      "See the caveats in the documentation: https://pandas.pydata.org/pandas-docs/stable/user_guide/indexing.html#returning-a-view-versus-a-copy\n",
      "  clean_data['Other'] = 100 - clean_data['Trump'] - clean_data['Harris']\n"
     ]
    },
    {
     "data": {
      "text/html": [
       "<div>\n",
       "<style scoped>\n",
       "    .dataframe tbody tr th:only-of-type {\n",
       "        vertical-align: middle;\n",
       "    }\n",
       "\n",
       "    .dataframe tbody tr th {\n",
       "        vertical-align: top;\n",
       "    }\n",
       "\n",
       "    .dataframe thead th {\n",
       "        text-align: right;\n",
       "    }\n",
       "</style>\n",
       "<table border=\"1\" class=\"dataframe\">\n",
       "  <thead>\n",
       "    <tr style=\"text-align: right;\">\n",
       "      <th></th>\n",
       "      <th>state</th>\n",
       "      <th>pollster</th>\n",
       "      <th>start_date</th>\n",
       "      <th>end_date</th>\n",
       "      <th>sample_size</th>\n",
       "      <th>Trump</th>\n",
       "      <th>Harris</th>\n",
       "      <th>Other</th>\n",
       "    </tr>\n",
       "  </thead>\n",
       "  <tbody>\n",
       "    <tr>\n",
       "      <th>0</th>\n",
       "      <td>Alaska</td>\n",
       "      <td>Alaska Survey Research</td>\n",
       "      <td>2024-10-20</td>\n",
       "      <td>2024-10-22</td>\n",
       "      <td>1703.0</td>\n",
       "      <td>53.0</td>\n",
       "      <td>44.0</td>\n",
       "      <td>3.0</td>\n",
       "    </tr>\n",
       "    <tr>\n",
       "      <th>1</th>\n",
       "      <td>Alaska</td>\n",
       "      <td>Alaska Survey Research</td>\n",
       "      <td>2024-10-08</td>\n",
       "      <td>2024-10-09</td>\n",
       "      <td>1254.0</td>\n",
       "      <td>52.0</td>\n",
       "      <td>44.5</td>\n",
       "      <td>3.5</td>\n",
       "    </tr>\n",
       "    <tr>\n",
       "      <th>2</th>\n",
       "      <td>Alaska</td>\n",
       "      <td>Alaska Survey Research</td>\n",
       "      <td>2024-09-11</td>\n",
       "      <td>2024-09-12</td>\n",
       "      <td>1254.0</td>\n",
       "      <td>47.0</td>\n",
       "      <td>42.0</td>\n",
       "      <td>11.0</td>\n",
       "    </tr>\n",
       "    <tr>\n",
       "      <th>3</th>\n",
       "      <td>Alaska</td>\n",
       "      <td>Alaska Survey Research</td>\n",
       "      <td>2024-09-27</td>\n",
       "      <td>2024-09-29</td>\n",
       "      <td>1182.0</td>\n",
       "      <td>52.0</td>\n",
       "      <td>43.0</td>\n",
       "      <td>5.0</td>\n",
       "    </tr>\n",
       "    <tr>\n",
       "      <th>4</th>\n",
       "      <td>Alaska</td>\n",
       "      <td>Cygnal</td>\n",
       "      <td>2024-08-30</td>\n",
       "      <td>2024-09-01</td>\n",
       "      <td>400.0</td>\n",
       "      <td>53.0</td>\n",
       "      <td>43.1</td>\n",
       "      <td>3.9</td>\n",
       "    </tr>\n",
       "  </tbody>\n",
       "</table>\n",
       "</div>"
      ],
      "text/plain": [
       "    state                pollster start_date   end_date  sample_size  Trump  \\\n",
       "0  Alaska  Alaska Survey Research 2024-10-20 2024-10-22       1703.0   53.0   \n",
       "1  Alaska  Alaska Survey Research 2024-10-08 2024-10-09       1254.0   52.0   \n",
       "2  Alaska  Alaska Survey Research 2024-09-11 2024-09-12       1254.0   47.0   \n",
       "3  Alaska  Alaska Survey Research 2024-09-27 2024-09-29       1182.0   52.0   \n",
       "4  Alaska                  Cygnal 2024-08-30 2024-09-01        400.0   53.0   \n",
       "\n",
       "   Harris  Other  \n",
       "0    44.0    3.0  \n",
       "1    44.5    3.5  \n",
       "2    42.0   11.0  \n",
       "3    43.0    5.0  \n",
       "4    43.1    3.9  "
      ]
     },
     "execution_count": 27,
     "metadata": {},
     "output_type": "execute_result"
    }
   ],
   "source": [
    "filtered_data = data[(data['cycle'] == 2024) &\n",
    "                     (data['stage'] == 'general') &\n",
    "                     (data['nationwide_batch'] == False) &\n",
    "                     (data['candidate_name'].isin(['Kamala Harris', 'Donald Trump']))]\n",
    "\n",
    "filtered_data_sorted = (filtered_data[['state', 'pollster', 'start_date', 'end_date', 'sample_size', 'candidate_name', 'pct']]\n",
    "                        .sort_values(by=['state', 'start_date'])\n",
    "                        .pivot_table(index=['state', 'pollster', 'start_date', 'end_date', 'sample_size'],\n",
    "                                     columns='candidate_name', values='pct')\n",
    "                        .reset_index())\n",
    "\n",
    "filtered_data_sorted['start_date'] = pd.to_datetime(filtered_data_sorted['start_date'], errors='coerce', format='%m/%d/%y')\n",
    "filtered_data_sorted['end_date'] = pd.to_datetime(filtered_data_sorted['end_date'], errors='coerce', format='%m/%d/%y')\n",
    "\n",
    "clean_data = filtered_data_sorted[filtered_data_sorted['start_date'] >= datetime(2024, 7, 21)]"
   ]
  },
  {
   "cell_type": "code",
   "execution_count": null,
   "metadata": {},
   "outputs": [],
   "source": [
    "clean_data.columns.name = None\n",
    "clean_data.reset_index(drop=True, inplace=True)\n",
    "\n",
    "clean_data.rename(columns={\n",
    "    'Donald Trump': 'Trump',\n",
    "    'Kamala Harris': 'Harris'\n",
    "}, inplace=True)\n",
    "clean_data['Other'] = 100 - clean_data['Trump'] - clean_data['Harris']\n",
    "\n",
    "clean_data.head()"
   ]
  },
  {
   "cell_type": "code",
   "execution_count": 28,
   "metadata": {},
   "outputs": [],
   "source": [
    "clean_data.to_csv(\"/Users/marywu/Desktop/Desktop - mary/open your eyes./Northwestern/357/US_Elections_2024/cleaned_data.csv\", index=False)"
   ]
  }
 ],
 "metadata": {
  "kernelspec": {
   "display_name": "base",
   "language": "python",
   "name": "python3"
  },
  "language_info": {
   "codemirror_mode": {
    "name": "ipython",
    "version": 3
   },
   "file_extension": ".py",
   "mimetype": "text/x-python",
   "name": "python",
   "nbconvert_exporter": "python",
   "pygments_lexer": "ipython3",
   "version": "3.11.7"
  }
 },
 "nbformat": 4,
 "nbformat_minor": 2
}
